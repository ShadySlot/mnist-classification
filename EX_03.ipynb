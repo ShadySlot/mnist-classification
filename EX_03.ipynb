{
  "nbformat": 4,
  "nbformat_minor": 0,
  "metadata": {
    "colab": {
      "provenance": [],
      "authorship_tag": "ABX9TyNkxQtAmYO83a1P5O7h/k4N",
      "include_colab_link": true
    },
    "kernelspec": {
      "name": "python3",
      "display_name": "Python 3"
    },
    "language_info": {
      "name": "python"
    }
  },
  "cells": [
    {
      "cell_type": "markdown",
      "metadata": {
        "id": "view-in-github",
        "colab_type": "text"
      },
      "source": [
        "<a href=\"https://colab.research.google.com/github/Sar-an/mnist-classification/blob/main/EX_03.ipynb\" target=\"_parent\"><img src=\"https://colab.research.google.com/assets/colab-badge.svg\" alt=\"Open In Colab\"/></a>"
      ]
    },
    {
      "cell_type": "code",
      "execution_count": 3,
      "metadata": {
        "colab": {
          "base_uri": "https://localhost:8080/",
          "height": 1000
        },
        "id": "RqX5pY5eDEVx",
        "outputId": "4e3f39fd-aacb-4b54-cdee-43953582c121"
      },
      "outputs": [
        {
          "output_type": "stream",
          "name": "stdout",
          "text": [
            "Model: \"sequential_2\"\n",
            "_________________________________________________________________\n",
            " Layer (type)                Output Shape              Param #   \n",
            "=================================================================\n",
            " conv2d_2 (Conv2D)           (None, 26, 26, 32)        320       \n",
            "                                                                 \n",
            " max_pooling2d_2 (MaxPooling  (None, 13, 13, 32)       0         \n",
            " 2D)                                                             \n",
            "                                                                 \n",
            " flatten_2 (Flatten)         (None, 5408)              0         \n",
            "                                                                 \n",
            " dense_4 (Dense)             (None, 32)                173088    \n",
            "                                                                 \n",
            " dense_5 (Dense)             (None, 10)                330       \n",
            "                                                                 \n",
            "=================================================================\n",
            "Total params: 173,738\n",
            "Trainable params: 173,738\n",
            "Non-trainable params: 0\n",
            "_________________________________________________________________\n",
            "Epoch 1/5\n",
            "938/938 [==============================] - 28s 30ms/step - loss: 0.2490 - accuracy: 0.9271 - val_loss: 0.0916 - val_accuracy: 0.9733\n",
            "Epoch 2/5\n",
            "938/938 [==============================] - 27s 29ms/step - loss: 0.0808 - accuracy: 0.9765 - val_loss: 0.0718 - val_accuracy: 0.9764\n",
            "Epoch 3/5\n",
            "938/938 [==============================] - 27s 29ms/step - loss: 0.0576 - accuracy: 0.9828 - val_loss: 0.0591 - val_accuracy: 0.9800\n",
            "Epoch 4/5\n",
            "938/938 [==============================] - 28s 29ms/step - loss: 0.0460 - accuracy: 0.9858 - val_loss: 0.0581 - val_accuracy: 0.9808\n",
            "Epoch 5/5\n",
            "938/938 [==============================] - 28s 30ms/step - loss: 0.0384 - accuracy: 0.9882 - val_loss: 0.0553 - val_accuracy: 0.9830\n",
            "313/313 [==============================] - 2s 7ms/step\n",
            "[[ 975    1    0    1    0    1    0    0    2    0]\n",
            " [   0 1130    1    1    0    0    0    1    2    0]\n",
            " [   4    1  999    9    1    0    0    9    8    1]\n",
            " [   1    0    0  993    0    4    0    6    4    2]\n",
            " [   1    0    2    0  956    0    0    0    3   20]\n",
            " [   1    0    0    8    0  877    1    0    3    2]\n",
            " [   9    2    0    1    2    3  936    0    5    0]\n",
            " [   0    1    4    2    0    0    0 1015    2    4]\n",
            " [   7    0    1    4    0    1    1    3  953    4]\n",
            " [   1    0    0    2    1    2    0    5    2  996]]\n",
            "              precision    recall  f1-score   support\n",
            "\n",
            "           0       0.98      0.99      0.99       980\n",
            "           1       1.00      1.00      1.00      1135\n",
            "           2       0.99      0.97      0.98      1032\n",
            "           3       0.97      0.98      0.98      1010\n",
            "           4       1.00      0.97      0.98       982\n",
            "           5       0.99      0.98      0.99       892\n",
            "           6       1.00      0.98      0.99       958\n",
            "           7       0.98      0.99      0.98      1028\n",
            "           8       0.97      0.98      0.97       974\n",
            "           9       0.97      0.99      0.98      1009\n",
            "\n",
            "    accuracy                           0.98     10000\n",
            "   macro avg       0.98      0.98      0.98     10000\n",
            "weighted avg       0.98      0.98      0.98     10000\n",
            "\n",
            "1/1 [==============================] - 0s 19ms/step\n",
            "[8]\n",
            "1/1 [==============================] - 0s 17ms/step\n",
            "[3]\n"
          ]
        },
        {
          "output_type": "display_data",
          "data": {
            "text/plain": [
              "<Figure size 432x288 with 1 Axes>"
            ],
            "image/png": "[encoded data removed]"
          },
          "metadata": {
            "needs_background": "light"
          }
        },
        {
          "output_type": "display_data",
          "data": {
            "text/plain": [
              "<Figure size 432x288 with 1 Axes>"
            ],
            "image/png": "[encoded data removed]"
          },
          "metadata": {
            "needs_background": "light"
          }
        },
        {
          "output_type": "display_data",
          "data": {
            "text/plain": [
              "<Figure size 432x288 with 1 Axes>"
            ],
            "image/png": "[encoded data removed]"
          },
          "metadata": {
            "needs_background": "light"
          }
        }
      ],
      "source": [
        "\n",
        "import numpy as np\n",
        "from tensorflow import keras\n",
        "from tensorflow.keras import layers\n",
        "from tensorflow.keras.datasets import mnist\n",
        "import tensorflow as tf\n",
        "import matplotlib.pyplot as plt\n",
        "from tensorflow.keras import utils\n",
        "import pandas as pd\n",
        "from sklearn.metrics import classification_report,confusion_matrix\n",
        "from tensorflow.keras.preprocessing import image\n",
        "(X_train, y_train), (X_test, y_test) = mnist.load_data()\n",
        "X_train.shape\n",
        "X_test.shape\n",
        "single_image= X_train[0]\n",
        "single_image.shape\n",
        "plt.imshow(single_image,cmap='gray')\n",
        "y_train.shape\n",
        "X_train.min()\n",
        "X_train.max()\n",
        "X_train_scaled = X_train/255.0\n",
        "X_test_scaled = X_test/255.0\n",
        "X_train_scaled.min()\n",
        "X_train_scaled.max()\n",
        "y_train[0]\n",
        "y_train_onehot = utils.to_categorical(y_train,10)\n",
        "y_test_onehot = utils.to_categorical(y_test,10)\n",
        "type(y_train_onehot)\n",
        "y_train_onehot.shape\n",
        "single_image = X_train[500]\n",
        "plt.imshow(single_image,cmap='gray')\n",
        "y_train_onehot[500]\n",
        "X_train_scaled = X_train_scaled.reshape(-1,28,28,1)\n",
        "X_test_scaled = X_test_scaled.reshape(-1,28,28,1)\n",
        "model = keras.Sequential()\n",
        "model.add(layers.Input(shape=(28,28,1)))\n",
        "model.add(layers.Conv2D(filters=32,kernel_size=(3,3),activation='relu'))\n",
        "model.add(layers.MaxPool2D(pool_size=(2,2)))\n",
        "model.add(layers.Flatten())\n",
        "model.add(layers.Dense(32,activation='relu'))\n",
        "model.add(layers.Dense(10,activation='softmax'))\n",
        "model.summary()\n",
        "model.compile(loss='categorical_crossentropy',\n",
        "              optimizer='adam',\n",
        "              metrics='accuracy')\n",
        "model.fit(X_train_scaled ,y_train_onehot, epochs=5,\n",
        "          batch_size=64, \n",
        "          validation_data=(X_test_scaled,y_test_onehot))\n",
        "metrics = pd.DataFrame(model.history.history)\n",
        "metrics.head()\n",
        "metrics[['accuracy','val_accuracy']].plot()\n",
        "metrics[['loss','val_loss']].plot()\n",
        "x_test_predictions = np.argmax(model.predict(X_test_scaled), axis=1)\n",
        "print(confusion_matrix(y_test,x_test_predictions))\n",
        "print(classification_report(y_test,x_test_predictions))\n",
        "img = image.load_img('img1.jpg')\n",
        "type(img)\n",
        "##img = image.load_img('abc.jpg')\n",
        "img_tensor = tf.convert_to_tensor(np.asarray(img))\n",
        "img_28 = tf.image.resize(img_tensor,(28,28))\n",
        "img_28_gray = tf.image.rgb_to_grayscale(img_28)\n",
        "img_28_gray_scaled = img_28_gray.numpy()/255.0\n",
        "x_single_prediction = np.argmax(\n",
        "    model.predict(img_28_gray_scaled.reshape(1,28,28,1)),\n",
        "     axis=1)\n",
        "print(x_single_prediction)\n",
        "plt.imshow(img_28_gray_scaled.reshape(28,28),cmap='gray')\n",
        "img_28_gray_inverted = 255.0-img_28_gray\n",
        "img_28_gray_inverted_scaled = img_28_gray_inverted.numpy()/255.0\n",
        "x_single_prediction = np.argmax(\n",
        "    model.predict(img_28_gray_inverted_scaled.reshape(1,28,28,1)),\n",
        "     axis=1)\n",
        "print(x_single_prediction)"
      ]
    }
  ]
}